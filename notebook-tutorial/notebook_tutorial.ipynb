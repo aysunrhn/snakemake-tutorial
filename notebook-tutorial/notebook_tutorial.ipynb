{
 "cells": [
  {
   "cell_type": "markdown",
   "metadata": {},
   "source": [
    "Snakemake is integrated with Jupyter notebooks, and we can use Snakefiles to create and edit notebook files.\n",
    "\n",
    "We start with the following Snakefile in our directory:\n",
    "\n",
    "```python\n",
    "rule execute_notebook:\n",
    "    output:\n",
    "        \"summary.csv\"\n",
    "    notebook:\n",
    "        \"data_analysis.py.ipynb\"\n",
    "```"
   ]
  },
  {
   "cell_type": "markdown",
   "metadata": {},
   "source": [
    "Although we don't have the notebook `data_analysis.py.ipynb` yet, we can create it with snakemake"
   ]
  },
  {
   "cell_type": "code",
   "execution_count": null,
   "metadata": {},
   "outputs": [],
   "source": [
    "!snakemake --cores 1 --edit-notebook summary.csv"
   ]
  },
  {
   "cell_type": "markdown",
   "metadata": {},
   "source": [
    "Now that our notebook `data_analysis.py.ipynb` is running, we can open it and edit it to add the following python code which will read the input data `input_data.csv` into a pandas dataframe, calculate summary statistics and write the values to `summary.csv` file.\n",
    "\n",
    "```python\n",
    "import pandas as pd\n",
    "\n",
    "# Load the input data\n",
    "df = pd.read_csv(\"input_data.csv\")\n",
    "\n",
    "# Perform some analysis\n",
    "summary = df.describe()\n",
    "\n",
    "# Save the summary as output\n",
    "summary.to_csv(\"summary.csv\")\n",
    "```"
   ]
  },
  {
   "cell_type": "markdown",
   "metadata": {},
   "source": [
    "Once we save the notebook on Jupyter server, we can shut down our kernel and see that our changes are saved in a notebook titled `data_analysis.py.ipynb` in our directory.\n",
    "\n",
    ":::\n",
    "Make sure you include the language extension `.py` in your notebook title, otherwise you will get an error because Snakemake won't recognize what kernel to use\n",
    ":::\n"
   ]
  }
 ],
 "metadata": {
  "kernelspec": {
   "display_name": "snakemake-tutorial",
   "language": "python",
   "name": "python3"
  },
  "language_info": {
   "name": "python",
   "version": "3.9.21"
  }
 },
 "nbformat": 4,
 "nbformat_minor": 2
}
