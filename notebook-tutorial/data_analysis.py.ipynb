{
 "cells": [
  {
   "cell_type": "code",
   "execution_count": null,
   "id": "5f049f8d",
   "metadata": {},
   "outputs": [],
   "source": [
    "import pandas as pd\n",
    "\n",
    "# Load the input data\n",
    "df = pd.read_csv(\"input_data.csv\")\n",
    "\n",
    "# Perform some analysis\n",
    "summary = df.describe()\n",
    "\n",
    "# Save the summary as output\n",
    "summary.to_csv(\"summary.csv\")"
   ]
  }
 ],
 "metadata": {
  "kernelspec": {
   "display_name": "Python 3 (ipykernel)",
   "language": "python",
   "name": "python3"
  },
  "language_info": {
   "codemirror_mode": {
    "name": "ipython",
    "version": 3
   },
   "file_extension": ".py",
   "mimetype": "text/x-python",
   "name": "python",
   "nbconvert_exporter": "python",
   "pygments_lexer": "ipython3",
   "version": "3.9.21"
  }
 },
 "nbformat": 4,
 "nbformat_minor": 5
}
